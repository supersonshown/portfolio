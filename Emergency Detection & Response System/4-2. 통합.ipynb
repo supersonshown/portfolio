{
 "cells": [
  {
   "cell_type": "markdown",
   "metadata": {
    "id": "4p06IPOk5xil"
   },
   "source": [
    "# **응급상황 자동 인식 및 응급실 연계 서비스**\n",
    "# **단계4 : 통합 - pipeline**"
   ]
  },
  {
   "cell_type": "markdown",
   "metadata": {
    "id": "HRuiqkZnuq94"
   },
   "source": [
    "## **0.미션**\n",
    "\n",
    "단계 4에서는, 단계1,2,3 에서 생성한 함수들을 모듈화하고, 단위 테스트 및 파이프라인 코드를 작성합니다."
   ]
  },
  {
   "cell_type": "markdown",
   "metadata": {
    "id": "Y_tnKlblyQak"
   },
   "source": [
    "* **미션6**\n",
    "    * 단위 테스트\n",
    "        * 각 기능(함수)에 대해 단계별로 테스트를 수행하며 오류를 해결합니다.\n",
    "    * 파이프라인 구축\n",
    "        * 단계1의 결과가 단계2 모델에 input이 되고, 모델의 예측 결과를 기반으로\n",
    "        * 응급실 추천되도록\n",
    "        * 조원들이 녹음한 음성 파일에 임의의 좌표(위도, 경도)값을 부여\n",
    "            * 음성파일 이름과 좌표를 저장하는 별도 데이터셋 생성\n",
    "        * 각 모듈을 연결하여 파이프라인 구성하는 ipynb 파일 생성\n",
    "\n"
   ]
  },
  {
   "cell_type": "markdown",
   "metadata": {
    "id": "76Pw6f64d5VU"
   },
   "source": [
    "## **1.환경설정**"
   ]
  },
  {
   "cell_type": "markdown",
   "metadata": {
    "id": "1is0ZmzXeBrA"
   },
   "source": [
    "### (1) 경로 설정\n",
    "\n",
    "구글 드라이브 연결"
   ]
  },
  {
   "cell_type": "markdown",
   "metadata": {
    "id": "xUOpvAJGGJnL"
   },
   "source": [
    "#### 1) 구글 드라이브 폴더 생성\n",
    "* 새 폴더(project6_2)를 생성하고\n",
    "* 제공 받은 파일을 업로드"
   ]
  },
  {
   "cell_type": "markdown",
   "metadata": {
    "id": "4jUC5td4GLEF"
   },
   "source": [
    "#### 2) 구글 드라이브 연결"
   ]
  },
  {
   "cell_type": "code",
   "execution_count": null,
   "metadata": {
    "id": "_wX7xlPARSDj"
   },
   "outputs": [],
   "source": [
    "from google.colab import drive\n",
    "drive.mount('/content/drive')"
   ]
  },
  {
   "cell_type": "code",
   "execution_count": null,
   "metadata": {
    "id": "JhVujnYp4TJe"
   },
   "outputs": [],
   "source": [
    "path = '/content/drive/MyDrive/project6_2/'"
   ]
  },
  {
   "cell_type": "markdown",
   "metadata": {
    "id": "6aFiucu6evl_"
   },
   "source": [
    "### (2) 라이브러리"
   ]
  },
  {
   "cell_type": "markdown",
   "metadata": {
    "id": "06pvZvQPG4TO"
   },
   "source": [
    "#### 1) 필요한 라이브러리 설치"
   ]
  },
  {
   "cell_type": "markdown",
   "metadata": {
    "id": "9yH0bcskIzI3"
   },
   "source": [
    "* requirements.txt 파일의 [경로 복사]를 한 후,\n",
    "* 아래 경로에 붙여 넣기"
   ]
  },
  {
   "cell_type": "code",
   "execution_count": null,
   "metadata": {
    "id": "OQVcKO7iG38A"
   },
   "outputs": [],
   "source": [
    "# 경로 : /content/drive/MyDrive/project6_2/requirements.txt\n",
    "# 경로가 다른 경우 아래 코드의 경로 부분을 수정하세요.\n",
    "\n",
    "!pip install -r /content/drive/MyDrive/project6_2/requirements.txt"
   ]
  },
  {
   "cell_type": "markdown",
   "metadata": {
    "id": "xpXTO7gP4vyQ"
   },
   "source": [
    "#### 2) 라이브러리 로딩"
   ]
  },
  {
   "cell_type": "code",
   "execution_count": null,
   "metadata": {
    "id": "_bx5a2MBfAt2"
   },
   "outputs": [],
   "source": [
    "#필요한 라이브러리 설치 및 불러우기\n",
    "import os\n",
    "import requests\n",
    "import xml.etree.ElementTree as ET\n",
    "import pandas as pd\n",
    "import openai\n",
    "from openai import OpenAI\n",
    "import json\n",
    "import sys\n",
    "sys.path.append(path)\n",
    "\n",
    "from transformers import AutoTokenizer, AutoModelForSequenceClassification\n",
    "\n",
    "\n",
    "# 조에서 생성한 모듈 불러오기 -------------\n"
   ]
  },
  {
   "cell_type": "markdown",
   "metadata": {
    "id": "l-qzK-Egog5E"
   },
   "source": [
    "## **2. 단위 테스트**\n",
    "\n",
    "* 세부사항 : 아래 단계별로 데이터가 순차적으로 처리되도록 단위 테스트를 진행합니다."
   ]
  },
  {
   "cell_type": "markdown",
   "metadata": {
    "id": "Y2h3kvuJekAJ"
   },
   "source": [
    "### (1) open ai key 등록"
   ]
  },
  {
   "cell_type": "code",
   "execution_count": null,
   "metadata": {
    "id": "fCh3jcGOekAK"
   },
   "outputs": [],
   "source": []
  },
  {
   "cell_type": "markdown",
   "metadata": {
    "id": "jn3tn-GuK0My"
   },
   "source": [
    "### (2) audio to text"
   ]
  },
  {
   "cell_type": "code",
   "execution_count": null,
   "metadata": {
    "id": "2jcNEwGveebo"
   },
   "outputs": [],
   "source": []
  },
  {
   "cell_type": "markdown",
   "metadata": {
    "id": "DnyVoEvqe81v"
   },
   "source": [
    "### (3) text summary"
   ]
  },
  {
   "cell_type": "code",
   "execution_count": null,
   "metadata": {
    "id": "2vVlh-oXe81v"
   },
   "outputs": [],
   "source": []
  },
  {
   "cell_type": "markdown",
   "metadata": {
    "id": "Q1WvCVInfMQw"
   },
   "source": [
    "### (4) 응급실 등급분류"
   ]
  },
  {
   "cell_type": "code",
   "execution_count": null,
   "metadata": {
    "id": "4ECAESD3UYnI"
   },
   "outputs": [],
   "source": []
  },
  {
   "cell_type": "code",
   "execution_count": null,
   "metadata": {
    "id": "e-maRgSLUh86"
   },
   "outputs": [],
   "source": []
  },
  {
   "cell_type": "markdown",
   "metadata": {
    "id": "lL0Np_CFrA5g"
   },
   "source": [
    "### (5) 응급실추천"
   ]
  },
  {
   "cell_type": "code",
   "execution_count": null,
   "metadata": {
    "id": "MwsOD-DEr_4Q"
   },
   "outputs": [],
   "source": []
  },
  {
   "cell_type": "code",
   "execution_count": null,
   "metadata": {
    "id": "OrjVbo7Zrpag"
   },
   "outputs": [],
   "source": []
  },
  {
   "cell_type": "code",
   "execution_count": null,
   "metadata": {
    "id": "aWAyWtFZrpQq"
   },
   "outputs": [],
   "source": []
  },
  {
   "cell_type": "markdown",
   "metadata": {
    "id": "D73P_NjZq585"
   },
   "source": [
    "## **3. 파이프라인**\n",
    "\n",
    "* 세부사항\n",
    "    * [2. 단계별 테스트] 의 내용을 순차적으로 정리합니다.\n",
    "        * 데이터 처리 전 준비작업 : 한번 실행하면 되는 영역\n",
    "            * 키, 데이터로딩\n",
    "            * 모델/토크나이저 로딩\n",
    "        * 입력값이 들어 왔을 때 출력값까지 처리되는 영역"
   ]
  },
  {
   "cell_type": "code",
   "execution_count": null,
   "metadata": {
    "id": "pb3oRhKDfHpc"
   },
   "outputs": [],
   "source": []
  }
 ],
 "metadata": {
  "colab": {
   "provenance": [],
   "toc_visible": true
  },
  "kernelspec": {
   "display_name": "Python 3",
   "name": "python3"
  },
  "language_info": {
   "name": "python"
  }
 },
 "nbformat": 4,
 "nbformat_minor": 0
}
